{
 "cells": [
  {
   "cell_type": "markdown",
   "metadata": {},
   "source": [
    "# Pricing of one-arm bandit"
   ]
  },
  {
   "cell_type": "markdown",
   "metadata": {},
   "source": [
    "## Imports & utils"
   ]
  },
  {
   "cell_type": "code",
   "execution_count": 6,
   "metadata": {},
   "outputs": [],
   "source": [
    "import warnings\n",
    "import matplotlib.pyplot as plt\n",
    "import seaborn as sns\n",
    "import pandas as pd\n",
    "import numpy as np\n",
    "import random\n",
    "import optuna\n",
    "from pydantic import PositiveFloat\n",
    "\n",
    "from IPython.core.magic import register_cell_magic\n",
    "\n",
    "\n",
    "@register_cell_magic\n",
    "def skip(line, cell):\n",
    "    return\n",
    "\n",
    "\n",
    "warnings.simplefilter(action=\"ignore\", category=FutureWarning)\n",
    "\n",
    "\n",
    "def set_seed(seed):\n",
    "    np.random.seed(seed)\n",
    "    random.seed(seed)\n",
    "\n",
    "\n",
    "set_seed(2)"
   ]
  },
  {
   "cell_type": "markdown",
   "metadata": {},
   "source": [
    "## Quantitative pricing "
   ]
  },
  {
   "cell_type": "markdown",
   "metadata": {},
   "source": [
    "### A. Analytics"
   ]
  },
  {
   "cell_type": "markdown",
   "metadata": {},
   "source": [
    "1. **Probability Sum**:\n",
    "\n",
    "$$\n",
    "p_{\\text{BTC}} + p_{\\text{ETH}} + p_{\\text{SOL}} + p_{\\text{trashy}} = 1\n",
    "$$\n",
    "\n",
    "2. **Expected Value Condition**:\n",
    "\n",
    "$$\n",
    "p_{\\text{BTC}} \\cdot \\text{BTC} + p_{\\text{ETH}} \\cdot \\text{ETH} + p_{\\text{SOL}} \\cdot \\text{SOL} + p_{\\text{trashy}} \\cdot \\text{trashy} = 0.95 \\times E\n",
    "$$\n",
    "\n",
    "3. **Rewriting the Equations**:\n",
    "\n",
    "$$\n",
    "\\begin{aligned}\n",
    "p_{\\text{BTC}} + p_{\\text{ETH}} + p_{\\text{SOL}} + p_{\\text{trashy}} &= 1 \\\\\n",
    "p_{\\text{BTC}} \\cdot \\text{BTC} + p_{\\text{ETH}} \\cdot \\text{ETH} + p_{\\text{SOL}} \\cdot \\text{SOL} + p_{\\text{trashy}} \\cdot \\text{trashy} &= 0.95 \\times E\n",
    "\\end{aligned}\n",
    "$$\n",
    "\n",
    "4. **Substituting:**:\n",
    "\n",
    "$$\n",
    "\\text{BTC} + p_{\\text{ETH}} \\cdot (\\text{ETH} - \\text{BTC}) + p_{\\text{SOL}} \\cdot (\\text{SOL} - \\text{BTC}) + p_{\\text{trashy}} \\cdot (\\text{trashy} - \\text{BTC}) = 0.95 \\times E\n",
    "$$\n",
    "we get:\n",
    "$$\n",
    "\\text{BTC} + p_{\\text{ETH}} \\cdot (\\text{ETH} - \\text{BTC}) + p_{\\text{SOL}} \\cdot (\\text{SOL} - \\text{BTC}) + p_{\\text{trashy}} \\cdot (\\text{trashy} - \\text{BTC}) = 0.95 \\times E\n",
    "$$\n"
   ]
  },
  {
   "cell_type": "markdown",
   "metadata": {},
   "source": [
    "### B. Optimization study"
   ]
  },
  {
   "cell_type": "markdown",
   "metadata": {},
   "source": [
    "The constrained optimization problem:"
   ]
  },
  {
   "cell_type": "code",
   "execution_count": 7,
   "metadata": {},
   "outputs": [],
   "source": [
    "\"\"\"Naive implementation does not work, use softmax instead!!!\n",
    "    SO DO NOT TRY DIRECT CONSTRAINED SAMPLING!!!\n",
    "    p_BTC = trial.suggest_float(\"p_BTC\", 0, 1)\n",
    "    p_ETH = trial.suggest_float(\"p_ETH\", 0, 1 - p_BTC)\n",
    "    p_SOL = trial.suggest_float(\"p_SOL\", 0, 1 - p_BTC - p_ETH)\n",
    "    p_trashy = 1 - p_BTC - p_ETH - p_SOL\n",
    "\"\"\"\n",
    "def objective(\n",
    "    trial,\n",
    "    BTC: PositiveFloat,\n",
    "    ETH: PositiveFloat,\n",
    "    SOL: PositiveFloat,\n",
    "    trashy: PositiveFloat,\n",
    "    spin_price: PositiveFloat,\n",
    "):\n",
    "    logits = [\n",
    "    trial.suggest_float(f\"logit_{i}\", -10, 10) for i in range(4)\n",
    "    ]\n",
    "    probs = np.exp(logits) / np.sum(np.exp(logits))\n",
    "\n",
    "    p_BTC, p_ETH, p_SOL, p_trashy = probs\n",
    "\n",
    "    expected_value = p_BTC * BTC + p_ETH * ETH + p_SOL * SOL + p_trashy * trashy\n",
    "\n",
    "    target = 0.95 * spin_price\n",
    "\n",
    "    return abs(expected_value - target)"
   ]
  },
  {
   "cell_type": "markdown",
   "metadata": {},
   "source": [
    "The study, with 1 billion simulations:"
   ]
  },
  {
   "cell_type": "code",
   "execution_count": 8,
   "metadata": {},
   "outputs": [
    {
     "name": "stderr",
     "output_type": "stream",
     "text": [
      "[I 2024-12-08 03:22:28,307] Using an existing study with name 'probabilities_exploration' instead of creating a new one.\n"
     ]
    }
   ],
   "source": [
    "sampler = optuna.samplers.TPESampler(seed=3)\n",
    "study = optuna.create_study(\n",
    "    study_name=\"probabilities_exploration\",\n",
    "    direction=\"minimize\",\n",
    "    sampler=sampler,\n",
    "    storage=\"sqlite:///optuna_db/probs.db\",\n",
    "    load_if_exists=True,\n",
    ")\n",
    "\n",
    "#get live data from API, now just a demo... prices quoted in USD\n",
    "\n",
    "BTC = 99560.17\n",
    "ETH = 4001.27\n",
    "SOL = 238.43\n",
    "trashy = 50 # for the sake of the example, but certainly should be consistently higher than a PEPE COIN\n",
    "spin_price = SOL/2\n",
    "\n",
    "spot_price_objective = lambda trial: objective(\n",
    "    trial, BTC, ETH, SOL, trashy, spin_price\n",
    ")\n",
    "#study.optimize(spot_price_objective, n_trials=10**9)"
   ]
  },
  {
   "cell_type": "markdown",
   "metadata": {},
   "source": [
    "... and the best trial:"
   ]
  },
  {
   "cell_type": "code",
   "execution_count": 9,
   "metadata": {},
   "outputs": [
    {
     "name": "stdout",
     "output_type": "stream",
     "text": [
      "Total trials 40244\n",
      "Probability for BTC: 0.00000997210931\n",
      "Probability for ETH: 0.00000254185701\n",
      "Probability for SOL: 0.33037030610849\n",
      "Probability for Trashy asset: 0.66961717992519\n"
     ]
    }
   ],
   "source": [
    "best_logit_values = [\n",
    "    study.best_trial.params[f\"logit_{i}\"] for i in range(4)\n",
    "]\n",
    "\n",
    "exp_logits = np.exp(best_logit_values - np.max(best_logit_values))\n",
    "best_probabilities = exp_logits / np.sum(exp_logits)\n",
    "\n",
    "p_BTC, p_ETH, p_SOL, p_trashy = best_probabilities\n",
    "\n",
    "print(f\"Total trials\", len(study.trials))\n",
    "print(f\"Probability for BTC: {p_BTC:.14f}\")\n",
    "print(f\"Probability for ETH: {p_ETH:.14f}\")\n",
    "print(f\"Probability for SOL: {p_SOL:.14f}\")\n",
    "print(f\"Probability for Trashy asset: {p_trashy:.14f}\")"
   ]
  },
  {
   "cell_type": "markdown",
   "metadata": {},
   "source": [
    "Let´s perform a stability study of the optimization (top 30 trials):"
   ]
  },
  {
   "cell_type": "code",
   "execution_count": 10,
   "metadata": {},
   "outputs": [
    {
     "name": "stdout",
     "output_type": "stream",
     "text": [
      "|   Trial |   BTC Probability |   ETH Probability |   SOL Probability |   Trashy Probability |   Absolute deviation from expected value |\n",
      "|--------:|------------------:|------------------:|------------------:|---------------------:|-----------------------------------------:|\n",
      "|       1 |       9.97211e-06 |       2.54186e-06 |          0.33037  |             0.669617 |                              0.000203364 |\n",
      "|       2 |       2.91898e-06 |       9.33203e-08 |          0.334128 |             0.665869 |                              0.00359742  |\n",
      "|       3 |       5.37034e-07 |       1.59041e-06 |          0.335346 |             0.664652 |                              0.00536854  |\n",
      "|       4 |       3.11652e-06 |       3.73893e-06 |          0.333936 |             0.666057 |                              0.00583677  |\n",
      "|       5 |       8.82229e-06 |       6.44981e-06 |          0.330929 |             0.669055 |                              0.00617244  |\n",
      "|       6 |       1.01013e-05 |       6.55496e-07 |          0.3303   |             0.669689 |                              0.00809653  |\n",
      "|       7 |       1.13188e-07 |       2.93145e-07 |          0.335674 |             0.664326 |                              0.00922886  |\n",
      "|       8 |       7.06336e-06 |       1.52231e-06 |          0.331868 |             0.668123 |                              0.0114015   |\n",
      "|       9 |       2.34533e-06 |       9.98144e-07 |          0.334366 |             0.665631 |                              0.0123907   |\n",
      "|      10 |       4.27718e-06 |       9.87668e-07 |          0.333485 |             0.66651  |                              0.013777    |\n",
      "|      11 |       9.68418e-06 |       1.49972e-06 |          0.330622 |             0.669367 |                              0.0145127   |\n",
      "|      12 |       5.04353e-07 |       8.43758e-07 |          0.335329 |             0.66467  |                              0.0147603   |\n",
      "|      13 |       1.35429e-05 |       8.33552e-07 |          0.328604 |             0.671381 |                              0.0155931   |\n",
      "|      14 |       3.73239e-05 |       2.45353e-06 |          0.315844 |             0.684116 |                              0.0159458   |\n",
      "|      15 |       9.34694e-07 |       9.25706e-07 |          0.335265 |             0.664733 |                              0.016423    |\n",
      "|      16 |       1.62628e-05 |       6.81201e-06 |          0.326856 |             0.673121 |                              0.0195875   |\n",
      "|      17 |       5.00695e-06 |       1.63626e-06 |          0.333119 |             0.666874 |                              0.0200819   |\n",
      "|      18 |       1.54041e-05 |       4.67604e-06 |          0.327565 |             0.672415 |                              0.0200938   |\n",
      "|      19 |       1.33851e-05 |       6.96209e-06 |          0.328367 |             0.671613 |                              0.0206805   |\n",
      "|      20 |       1.49038e-07 |       2.78188e-07 |          0.335487 |             0.664513 |                              0.0225213   |\n",
      "|      21 |       4.60045e-06 |       1.6527e-06  |          0.333096 |             0.666898 |                              0.0247405   |\n",
      "|      22 |       3.3837e-06  |       1.29675e-06 |          0.333734 |             0.666261 |                              0.0268742   |\n",
      "|      23 |       1.12182e-05 |       3.10339e-06 |          0.329556 |             0.67043  |                              0.0274858   |\n",
      "|      24 |       2.00769e-05 |       8.31827e-06 |          0.325065 |             0.674907 |                              0.0284067   |\n",
      "|      25 |       1.49701e-06 |       7.34634e-06 |          0.334897 |             0.665094 |                              0.0284142   |\n",
      "|      26 |       8.6495e-06  |       1.50814e-06 |          0.331251 |             0.668739 |                              0.0300993   |\n",
      "|      27 |       1.16798e-06 |       7.08701e-07 |          0.334896 |             0.665102 |                              0.0307195   |\n",
      "|      28 |       7.09279e-06 |       2.41544e-06 |          0.331731 |             0.66826  |                              0.0308553   |\n",
      "|      29 |       1.28334e-05 |       1.74187e-06 |          0.328712 |             0.671273 |                              0.0310332   |\n",
      "|      30 |       5.10571e-06 |       1.62968e-06 |          0.332788 |             0.667205 |                              0.0325012   |\n"
     ]
    }
   ],
   "source": [
    "results = []\n",
    "sorted_trials = [trial for trial in study.trials if trial is not None]\n",
    "sorted_trials = [trial for trial in study.trials if trial.value is not None]\n",
    "sorted_trials = sorted(sorted_trials, key=lambda trial: trial.value)\n",
    "\n",
    "for idx, trial in enumerate(sorted_trials[:30]):   \n",
    "    best_logit_values = [\n",
    "        trial.params[f\"logit_{i}\"] for i in range(4)\n",
    "    ]\n",
    "\n",
    "    exp_logits = np.exp(best_logit_values - np.max(best_logit_values))  # Numerical stability\n",
    "    best_probabilities = exp_logits / np.sum(exp_logits)\n",
    "\n",
    "    p_BTC, p_ETH, p_SOL, p_trashy = best_probabilities\n",
    "\n",
    "    results.append({\n",
    "        \"Trial\": idx + 1,\n",
    "        \"BTC Probability\": round(p_BTC, 14),\n",
    "        \"ETH Probability\": round(p_ETH, 14),\n",
    "        \"SOL Probability\": round(p_SOL, 14),\n",
    "        \"Trashy Probability\": round(p_trashy, 14),\n",
    "        \"Absolute deviation from expected value\": trial.value\n",
    "    })\n",
    "\n",
    "df = pd.DataFrame(results)\n",
    "\n",
    "print(df.to_markdown(index=False))"
   ]
  }
 ],
 "metadata": {
  "kernelspec": {
   "display_name": "venv",
   "language": "python",
   "name": "python3"
  },
  "language_info": {
   "codemirror_mode": {
    "name": "ipython",
    "version": 3
   },
   "file_extension": ".py",
   "mimetype": "text/x-python",
   "name": "python",
   "nbconvert_exporter": "python",
   "pygments_lexer": "ipython3",
   "version": "3.12.6"
  }
 },
 "nbformat": 4,
 "nbformat_minor": 2
}
